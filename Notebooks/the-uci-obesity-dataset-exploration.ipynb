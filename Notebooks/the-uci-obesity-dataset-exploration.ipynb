{
 "cells": [
  {
   "cell_type": "markdown",
   "id": "fd88003d",
   "metadata": {
    "papermill": {
     "duration": 0.012903,
     "end_time": "2024-03-20T22:22:35.338883",
     "exception": false,
     "start_time": "2024-03-20T22:22:35.325980",
     "status": "completed"
    },
    "tags": []
   },
   "source": [
    "<div style=\"font-family: Trebuchet MS; background-color: #f8f9fa; border-left: 5px solid #1b4332; padding: 12px;\">\n",
    "    <h1 style=\"font-size: 30px; color: #081c15; text-align: center; line-height: 1.25;\">feature selection and categorical encoding</h1>\n",
    "    <h2 style=\"color: #1b4332; font-size: 48px; text-align: center;\"><b>obesity dataset from  UCI Machine Learning Repository. </b></h2>\n",
    "    <hr style=\"border-top: 2px solid #264653;\">\n",
    "    <h3 style=\"font-size: 14px; color: #264653; text-align: right; \"><strong>Created By: Hassane Skikri</strong></h3>\n",
    "</div>\n"
   ]
  },
  {
   "cell_type": "markdown",
   "id": "3e90f554",
   "metadata": {
    "papermill": {
     "duration": 0.012669,
     "end_time": "2024-03-20T22:22:35.364155",
     "exception": false,
     "start_time": "2024-03-20T22:22:35.351486",
     "status": "completed"
    },
    "tags": []
   },
   "source": [
    "<p style=\"background-color: #12f7ff; font-family: 'Trebuchet MS', sans-serif; color: #000; font-size: 150%; text-align: center; border-radius: 50px 15px; padding: 10px; box-shadow: 0 4px 8px 0 rgba(0, 0, 0, 0.2), 0 6px 20px 0 rgba(0, 0, 0, 0.19);\">\n",
    "    🔻1️⃣ Importing Libraries 🔻\n",
    "</p>\n"
   ]
  },
  {
   "cell_type": "code",
   "execution_count": 1,
   "id": "e52be5d7",
   "metadata": {
    "execution": {
     "iopub.execute_input": "2024-03-20T22:22:35.391636Z",
     "iopub.status.busy": "2024-03-20T22:22:35.390658Z",
     "iopub.status.idle": "2024-03-20T22:22:38.508272Z",
     "shell.execute_reply": "2024-03-20T22:22:38.507129Z"
    },
    "papermill": {
     "duration": 3.134452,
     "end_time": "2024-03-20T22:22:38.511033",
     "exception": false,
     "start_time": "2024-03-20T22:22:35.376581",
     "status": "completed"
    },
    "tags": []
   },
   "outputs": [],
   "source": [
    "# Import libraries\n",
    "import numpy as np\n",
    "import pandas as pd\n",
    "\n",
    "from sklearn.preprocessing import LabelEncoder, FunctionTransformer, OneHotEncoder\n",
    "from sklearn.compose import ColumnTransformer\n",
    "from sklearn.linear_model import LogisticRegression\n",
    "\n",
    "\n",
    "from mlxtend.feature_selection import SequentialFeatureSelector as SFS\n",
    "from mlxtend.plotting import plot_sequential_feature_selection as plot_sfs\n",
    "import matplotlib.pyplot as plt\n",
    "from sklearn.preprocessing import StandardScaler\n",
    "from sklearn.feature_selection import RFE\n",
    "\n",
    "\n",
    "from sklearn.pipeline import Pipeline\n",
    "import category_encoders as ce\n",
    "\n",
    "import warnings\n",
    "warnings.filterwarnings(\"ignore\")\n",
    "\n",
    "pd.set_option('display.max_columns', None)"
   ]
  },
  {
   "cell_type": "markdown",
   "id": "6454e552",
   "metadata": {
    "papermill": {
     "duration": 0.012117,
     "end_time": "2024-03-20T22:22:38.535558",
     "exception": false,
     "start_time": "2024-03-20T22:22:38.523441",
     "status": "completed"
    },
    "tags": []
   },
   "source": [
    "\n",
    "\n",
    "### The data set `obesity` contains 18 predictor variables."
   ]
  },
  {
   "cell_type": "code",
   "execution_count": 2,
   "id": "c9760505",
   "metadata": {
    "execution": {
     "iopub.execute_input": "2024-03-20T22:22:38.562207Z",
     "iopub.status.busy": "2024-03-20T22:22:38.561673Z",
     "iopub.status.idle": "2024-03-20T22:22:38.644042Z",
     "shell.execute_reply": "2024-03-20T22:22:38.642616Z"
    },
    "papermill": {
     "duration": 0.099278,
     "end_time": "2024-03-20T22:22:38.647060",
     "exception": false,
     "start_time": "2024-03-20T22:22:38.547782",
     "status": "completed"
    },
    "tags": []
   },
   "outputs": [
    {
     "data": {
      "text/html": [
       "<div>\n",
       "<style scoped>\n",
       "    .dataframe tbody tr th:only-of-type {\n",
       "        vertical-align: middle;\n",
       "    }\n",
       "\n",
       "    .dataframe tbody tr th {\n",
       "        vertical-align: top;\n",
       "    }\n",
       "\n",
       "    .dataframe thead th {\n",
       "        text-align: right;\n",
       "    }\n",
       "</style>\n",
       "<table border=\"1\" class=\"dataframe\">\n",
       "  <thead>\n",
       "    <tr style=\"text-align: right;\">\n",
       "      <th></th>\n",
       "      <th>Gender</th>\n",
       "      <th>Age</th>\n",
       "      <th>Height</th>\n",
       "      <th>Weight</th>\n",
       "      <th>family_history_with_overweight</th>\n",
       "      <th>FAVC</th>\n",
       "      <th>FCVC</th>\n",
       "      <th>NCP</th>\n",
       "      <th>CAEC</th>\n",
       "      <th>SMOKE</th>\n",
       "      <th>CH2O</th>\n",
       "      <th>SCC</th>\n",
       "      <th>FAF</th>\n",
       "      <th>TUE</th>\n",
       "      <th>CALC</th>\n",
       "      <th>MTRANS</th>\n",
       "      <th>NObeyesdad</th>\n",
       "    </tr>\n",
       "  </thead>\n",
       "  <tbody>\n",
       "    <tr>\n",
       "      <th>0</th>\n",
       "      <td>Female</td>\n",
       "      <td>21.0</td>\n",
       "      <td>1.62</td>\n",
       "      <td>64.0</td>\n",
       "      <td>yes</td>\n",
       "      <td>no</td>\n",
       "      <td>2.0</td>\n",
       "      <td>3.0</td>\n",
       "      <td>Sometimes</td>\n",
       "      <td>no</td>\n",
       "      <td>2.0</td>\n",
       "      <td>no</td>\n",
       "      <td>0.0</td>\n",
       "      <td>1.0</td>\n",
       "      <td>no</td>\n",
       "      <td>Public_Transportation</td>\n",
       "      <td>Normal_Weight</td>\n",
       "    </tr>\n",
       "    <tr>\n",
       "      <th>1</th>\n",
       "      <td>Female</td>\n",
       "      <td>21.0</td>\n",
       "      <td>1.52</td>\n",
       "      <td>56.0</td>\n",
       "      <td>yes</td>\n",
       "      <td>no</td>\n",
       "      <td>3.0</td>\n",
       "      <td>3.0</td>\n",
       "      <td>Sometimes</td>\n",
       "      <td>yes</td>\n",
       "      <td>3.0</td>\n",
       "      <td>yes</td>\n",
       "      <td>3.0</td>\n",
       "      <td>0.0</td>\n",
       "      <td>Sometimes</td>\n",
       "      <td>Public_Transportation</td>\n",
       "      <td>Normal_Weight</td>\n",
       "    </tr>\n",
       "    <tr>\n",
       "      <th>2</th>\n",
       "      <td>Male</td>\n",
       "      <td>23.0</td>\n",
       "      <td>1.80</td>\n",
       "      <td>77.0</td>\n",
       "      <td>yes</td>\n",
       "      <td>no</td>\n",
       "      <td>2.0</td>\n",
       "      <td>3.0</td>\n",
       "      <td>Sometimes</td>\n",
       "      <td>no</td>\n",
       "      <td>2.0</td>\n",
       "      <td>no</td>\n",
       "      <td>2.0</td>\n",
       "      <td>1.0</td>\n",
       "      <td>Frequently</td>\n",
       "      <td>Public_Transportation</td>\n",
       "      <td>Normal_Weight</td>\n",
       "    </tr>\n",
       "    <tr>\n",
       "      <th>3</th>\n",
       "      <td>Male</td>\n",
       "      <td>27.0</td>\n",
       "      <td>1.80</td>\n",
       "      <td>87.0</td>\n",
       "      <td>no</td>\n",
       "      <td>no</td>\n",
       "      <td>3.0</td>\n",
       "      <td>3.0</td>\n",
       "      <td>Sometimes</td>\n",
       "      <td>no</td>\n",
       "      <td>2.0</td>\n",
       "      <td>no</td>\n",
       "      <td>2.0</td>\n",
       "      <td>0.0</td>\n",
       "      <td>Frequently</td>\n",
       "      <td>Walking</td>\n",
       "      <td>Overweight_Level_I</td>\n",
       "    </tr>\n",
       "    <tr>\n",
       "      <th>4</th>\n",
       "      <td>Male</td>\n",
       "      <td>22.0</td>\n",
       "      <td>1.78</td>\n",
       "      <td>89.8</td>\n",
       "      <td>no</td>\n",
       "      <td>no</td>\n",
       "      <td>2.0</td>\n",
       "      <td>1.0</td>\n",
       "      <td>Sometimes</td>\n",
       "      <td>no</td>\n",
       "      <td>2.0</td>\n",
       "      <td>no</td>\n",
       "      <td>0.0</td>\n",
       "      <td>0.0</td>\n",
       "      <td>Sometimes</td>\n",
       "      <td>Public_Transportation</td>\n",
       "      <td>Overweight_Level_II</td>\n",
       "    </tr>\n",
       "  </tbody>\n",
       "</table>\n",
       "</div>"
      ],
      "text/plain": [
       "   Gender   Age  Height  Weight family_history_with_overweight FAVC  FCVC  \\\n",
       "0  Female  21.0    1.62    64.0                            yes   no   2.0   \n",
       "1  Female  21.0    1.52    56.0                            yes   no   3.0   \n",
       "2    Male  23.0    1.80    77.0                            yes   no   2.0   \n",
       "3    Male  27.0    1.80    87.0                             no   no   3.0   \n",
       "4    Male  22.0    1.78    89.8                             no   no   2.0   \n",
       "\n",
       "   NCP       CAEC SMOKE  CH2O  SCC  FAF  TUE        CALC  \\\n",
       "0  3.0  Sometimes    no   2.0   no  0.0  1.0          no   \n",
       "1  3.0  Sometimes   yes   3.0  yes  3.0  0.0   Sometimes   \n",
       "2  3.0  Sometimes    no   2.0   no  2.0  1.0  Frequently   \n",
       "3  3.0  Sometimes    no   2.0   no  2.0  0.0  Frequently   \n",
       "4  1.0  Sometimes    no   2.0   no  0.0  0.0   Sometimes   \n",
       "\n",
       "                  MTRANS           NObeyesdad  \n",
       "0  Public_Transportation        Normal_Weight  \n",
       "1  Public_Transportation        Normal_Weight  \n",
       "2  Public_Transportation        Normal_Weight  \n",
       "3                Walking   Overweight_Level_I  \n",
       "4  Public_Transportation  Overweight_Level_II  "
      ]
     },
     "execution_count": 2,
     "metadata": {},
     "output_type": "execute_result"
    }
   ],
   "source": [
    "# Load the data\n",
    "obesity = pd.read_csv(\"..Data/ObesityDataSet.csv\")\n",
    "# Inspect the data\n",
    "obesity.head()"
   ]
  },
  {
   "cell_type": "markdown",
   "id": "bd697e35",
   "metadata": {
    "papermill": {
     "duration": 0.012378,
     "end_time": "2024-03-20T22:22:38.673038",
     "exception": false,
     "start_time": "2024-03-20T22:22:38.660660",
     "status": "completed"
    },
    "tags": []
   },
   "source": [
    "\n",
    "<p style=\"background-color: #12f7ff; font-family: 'Trebuchet MS', sans-serif; color: #000; font-size: 150%; text-align: center; border-radius: 50px 15px; padding: 10px; box-shadow: 0 4px 8px 0 rgba(0, 0, 0, 0.2), 0 6px 20px 0 rgba(0, 0, 0, 0.19);\">\n",
    "    data cleaning\n",
    "</p>\n"
   ]
  },
  {
   "cell_type": "code",
   "execution_count": 3,
   "id": "58c15f8b",
   "metadata": {
    "execution": {
     "iopub.execute_input": "2024-03-20T22:22:38.701248Z",
     "iopub.status.busy": "2024-03-20T22:22:38.700674Z",
     "iopub.status.idle": "2024-03-20T22:22:38.725099Z",
     "shell.execute_reply": "2024-03-20T22:22:38.724196Z"
    },
    "papermill": {
     "duration": 0.043735,
     "end_time": "2024-03-20T22:22:38.729357",
     "exception": false,
     "start_time": "2024-03-20T22:22:38.685622",
     "status": "completed"
    },
    "tags": []
   },
   "outputs": [
    {
     "name": "stdout",
     "output_type": "stream",
     "text": [
      "checking missing value\n",
      "Gender                            0\n",
      "Age                               0\n",
      "Height                            0\n",
      "Weight                            0\n",
      "family_history_with_overweight    0\n",
      "FAVC                              0\n",
      "FCVC                              0\n",
      "NCP                               0\n",
      "CAEC                              0\n",
      "SMOKE                             0\n",
      "CH2O                              0\n",
      "SCC                               0\n",
      "FAF                               0\n",
      "TUE                               0\n",
      "CALC                              0\n",
      "MTRANS                            0\n",
      "NObeyesdad                        0\n",
      "dtype: int64\n",
      "duplicated values\n",
      "24\n"
     ]
    }
   ],
   "source": [
    "# Checking for NaN (missing) values\n",
    "missing_values = obesity.isnull().sum()\n",
    "\n",
    "# Checking for duplicated rows\n",
    "duplicates = obesity.duplicated().sum()\n",
    "\n",
    "print(f\"checking missing value\\n{missing_values}\")\n",
    "print(f\"duplicated values\\n{duplicates}\")"
   ]
  },
  {
   "cell_type": "code",
   "execution_count": 4,
   "id": "edbc36dc",
   "metadata": {
    "execution": {
     "iopub.execute_input": "2024-03-20T22:22:38.762901Z",
     "iopub.status.busy": "2024-03-20T22:22:38.762125Z",
     "iopub.status.idle": "2024-03-20T22:22:38.783669Z",
     "shell.execute_reply": "2024-03-20T22:22:38.782870Z"
    },
    "papermill": {
     "duration": 0.040177,
     "end_time": "2024-03-20T22:22:38.785888",
     "exception": false,
     "start_time": "2024-03-20T22:22:38.745711",
     "status": "completed"
    },
    "tags": []
   },
   "outputs": [
    {
     "data": {
      "text/plain": [
       "0"
      ]
     },
     "execution_count": 4,
     "metadata": {},
     "output_type": "execute_result"
    }
   ],
   "source": [
    "# Removing duplicated rows from the dataset\n",
    "obesity = obesity.drop_duplicates()\n",
    "#check if ther is any remining duplicated values\n",
    "obesity.duplicated().sum()"
   ]
  },
  {
   "cell_type": "markdown",
   "id": "d2611278",
   "metadata": {
    "papermill": {
     "duration": 0.012767,
     "end_time": "2024-03-20T22:22:38.811859",
     "exception": false,
     "start_time": "2024-03-20T22:22:38.799092",
     "status": "completed"
    },
    "tags": []
   },
   "source": [
    "<p style=\"background-color: #12f7ff; font-family: 'Trebuchet MS', sans-serif; color: #000; font-size: 150%; text-align: center; border-radius: 50px 15px; padding: 10px; box-shadow: 0 4px 8px 0 rgba(0, 0, 0, 0.2), 0 6px 20px 0 rgba(0, 0, 0, 0.19);\">\n",
    "    encoding categorical variables\n",
    "</p>\n",
    "\n"
   ]
  },
  {
   "cell_type": "code",
   "execution_count": 5,
   "id": "8900ee68",
   "metadata": {
    "execution": {
     "iopub.execute_input": "2024-03-20T22:22:38.839867Z",
     "iopub.status.busy": "2024-03-20T22:22:38.839142Z",
     "iopub.status.idle": "2024-03-20T22:22:38.847927Z",
     "shell.execute_reply": "2024-03-20T22:22:38.846870Z"
    },
    "papermill": {
     "duration": 0.025564,
     "end_time": "2024-03-20T22:22:38.850455",
     "exception": false,
     "start_time": "2024-03-20T22:22:38.824891",
     "status": "completed"
    },
    "tags": []
   },
   "outputs": [
    {
     "data": {
      "text/plain": [
       "['Gender',\n",
       " 'family_history_with_overweight',\n",
       " 'FAVC',\n",
       " 'CAEC',\n",
       " 'SMOKE',\n",
       " 'SCC',\n",
       " 'CALC',\n",
       " 'MTRANS',\n",
       " 'NObeyesdad']"
      ]
     },
     "execution_count": 5,
     "metadata": {},
     "output_type": "execute_result"
    }
   ],
   "source": [
    "columns = obesity.columns\n",
    "categorical_columns = [c for c in columns if obesity[c].dtypes == 'object']\n",
    "categorical_columns"
   ]
  },
  {
   "cell_type": "code",
   "execution_count": 6,
   "id": "ac891a8b",
   "metadata": {
    "execution": {
     "iopub.execute_input": "2024-03-20T22:22:38.878419Z",
     "iopub.status.busy": "2024-03-20T22:22:38.878009Z",
     "iopub.status.idle": "2024-03-20T22:22:38.887451Z",
     "shell.execute_reply": "2024-03-20T22:22:38.886039Z"
    },
    "papermill": {
     "duration": 0.026188,
     "end_time": "2024-03-20T22:22:38.889674",
     "exception": false,
     "start_time": "2024-03-20T22:22:38.863486",
     "status": "completed"
    },
    "tags": []
   },
   "outputs": [
    {
     "name": "stdout",
     "output_type": "stream",
     "text": [
      "Gender : ['Female' 'Male']\n",
      "family_history_with_overweight : ['yes' 'no']\n",
      "FAVC : ['no' 'yes']\n",
      "CAEC : ['Sometimes' 'Frequently' 'Always' 'no']\n",
      "SMOKE : ['no' 'yes']\n",
      "SCC : ['no' 'yes']\n",
      "CALC : ['no' 'Sometimes' 'Frequently' 'Always']\n",
      "MTRANS : ['Public_Transportation' 'Walking' 'Automobile' 'Motorbike' 'Bike']\n",
      "NObeyesdad : ['Normal_Weight' 'Overweight_Level_I' 'Overweight_Level_II'\n",
      " 'Obesity_Type_I' 'Insufficient_Weight' 'Obesity_Type_II'\n",
      " 'Obesity_Type_III']\n"
     ]
    }
   ],
   "source": [
    "for i in categorical_columns:\n",
    "    print(f\"{i} : {obesity[i].unique()}\")"
   ]
  },
  {
   "cell_type": "markdown",
   "id": "036757d0",
   "metadata": {
    "papermill": {
     "duration": 0.013138,
     "end_time": "2024-03-20T22:22:38.916494",
     "exception": false,
     "start_time": "2024-03-20T22:22:38.903356",
     "status": "completed"
    },
    "tags": []
   },
   "source": [
    "### Split the data into `X` and `y`\n",
    "\n",
    "In order to use a linear regression model, you'll need to split the data into two parts: the predictor variables and an outcome variable. Do this by splitting the data into a DataFrame of predictor variables called `X` and a Series of outcome variables `y`."
   ]
  },
  {
   "cell_type": "code",
   "execution_count": 7,
   "id": "7fc57141",
   "metadata": {
    "execution": {
     "iopub.execute_input": "2024-03-20T22:22:38.945758Z",
     "iopub.status.busy": "2024-03-20T22:22:38.945052Z",
     "iopub.status.idle": "2024-03-20T22:22:38.953090Z",
     "shell.execute_reply": "2024-03-20T22:22:38.952309Z"
    },
    "papermill": {
     "duration": 0.02549,
     "end_time": "2024-03-20T22:22:38.955335",
     "exception": false,
     "start_time": "2024-03-20T22:22:38.929845",
     "status": "completed"
    },
    "tags": []
   },
   "outputs": [],
   "source": [
    "X = obesity.iloc[:,:-1]\n",
    "y = obesity.iloc[:, -1]\n",
    "y = pd.DataFrame(y, columns=['NObeyesdad'])"
   ]
  },
  {
   "cell_type": "code",
   "execution_count": 8,
   "id": "c302ae59",
   "metadata": {
    "execution": {
     "iopub.execute_input": "2024-03-20T22:22:38.984040Z",
     "iopub.status.busy": "2024-03-20T22:22:38.983322Z",
     "iopub.status.idle": "2024-03-20T22:22:38.999783Z",
     "shell.execute_reply": "2024-03-20T22:22:38.994844Z"
    },
    "papermill": {
     "duration": 0.035372,
     "end_time": "2024-03-20T22:22:39.003958",
     "exception": false,
     "start_time": "2024-03-20T22:22:38.968586",
     "status": "completed"
    },
    "tags": []
   },
   "outputs": [
    {
     "data": {
      "text/html": [
       "<div>\n",
       "<style scoped>\n",
       "    .dataframe tbody tr th:only-of-type {\n",
       "        vertical-align: middle;\n",
       "    }\n",
       "\n",
       "    .dataframe tbody tr th {\n",
       "        vertical-align: top;\n",
       "    }\n",
       "\n",
       "    .dataframe thead th {\n",
       "        text-align: right;\n",
       "    }\n",
       "</style>\n",
       "<table border=\"1\" class=\"dataframe\">\n",
       "  <thead>\n",
       "    <tr style=\"text-align: right;\">\n",
       "      <th></th>\n",
       "      <th>NObeyesdad</th>\n",
       "    </tr>\n",
       "  </thead>\n",
       "  <tbody>\n",
       "    <tr>\n",
       "      <th>0</th>\n",
       "      <td>1</td>\n",
       "    </tr>\n",
       "    <tr>\n",
       "      <th>1</th>\n",
       "      <td>1</td>\n",
       "    </tr>\n",
       "    <tr>\n",
       "      <th>2</th>\n",
       "      <td>1</td>\n",
       "    </tr>\n",
       "    <tr>\n",
       "      <th>3</th>\n",
       "      <td>2</td>\n",
       "    </tr>\n",
       "    <tr>\n",
       "      <th>4</th>\n",
       "      <td>3</td>\n",
       "    </tr>\n",
       "  </tbody>\n",
       "</table>\n",
       "</div>"
      ],
      "text/plain": [
       "   NObeyesdad\n",
       "0           1\n",
       "1           1\n",
       "2           1\n",
       "3           2\n",
       "4           3"
      ]
     },
     "execution_count": 8,
     "metadata": {},
     "output_type": "execute_result"
    }
   ],
   "source": [
    "labels = ['Normal_Weight', 'Overweight_Level_I', 'Overweight_Level_II', 'Obesity_Type_I', 'Insufficient_Weight', 'Obesity_Type_II', 'Obesity_Type_III']\n",
    "\n",
    "# Create a dictionary to map labels to numbers starting from 1\n",
    "label_to_number = {label: i + 1 for i, label in enumerate(labels)}\n",
    "\n",
    "# Map the condition labels to numeric values\n",
    "y['NObeyesdad'] = y['NObeyesdad'].map(label_to_number)\n",
    "y.head()"
   ]
  },
  {
   "cell_type": "markdown",
   "id": "a1a02ca1",
   "metadata": {
    "papermill": {
     "duration": 0.015929,
     "end_time": "2024-03-20T22:22:39.037630",
     "exception": false,
     "start_time": "2024-03-20T22:22:39.021701",
     "status": "completed"
    },
    "tags": []
   },
   "source": [
    "# `Gender`, `FAVC`, `SMOKE`, `SCC` , `family_history_with_overweight` (Binary Categories):\n",
    "These features have only two categories and are best represented by a binary format."
   ]
  },
  {
   "cell_type": "markdown",
   "id": "7e445dab",
   "metadata": {
    "papermill": {
     "duration": 0.013966,
     "end_time": "2024-03-20T22:22:39.065542",
     "exception": false,
     "start_time": "2024-03-20T22:22:39.051576",
     "status": "completed"
    },
    "tags": []
   },
   "source": [
    "# `CALC`, `MTRANS` (Multi-Category Nominal):\n",
    "\n",
    "These features are nominal with no inherent order. One-hot encoding creates new columns indicating the presence of each possible value."
   ]
  },
  {
   "cell_type": "markdown",
   "id": "a90cd948",
   "metadata": {
    "papermill": {
     "duration": 0.01371,
     "end_time": "2024-03-20T22:22:39.092979",
     "exception": false,
     "start_time": "2024-03-20T22:22:39.079269",
     "status": "completed"
    },
    "tags": []
   },
   "source": [
    "# `CAEC` (Ordinal Category):\n",
    "\n",
    "If 'CAEC' has an inherent order (e.g., never, sometimes, frequently, always), ordinal encoding can be used, where each category is assigned an integer based on the order."
   ]
  },
  {
   "cell_type": "code",
   "execution_count": 9,
   "id": "55ce740e",
   "metadata": {
    "execution": {
     "iopub.execute_input": "2024-03-20T22:22:39.186538Z",
     "iopub.status.busy": "2024-03-20T22:22:39.185483Z",
     "iopub.status.idle": "2024-03-20T22:22:39.256230Z",
     "shell.execute_reply": "2024-03-20T22:22:39.255096Z"
    },
    "papermill": {
     "duration": 0.150794,
     "end_time": "2024-03-20T22:22:39.259464",
     "exception": false,
     "start_time": "2024-03-20T22:22:39.108670",
     "status": "completed"
    },
    "tags": []
   },
   "outputs": [
    {
     "data": {
      "text/html": [
       "<div>\n",
       "<style scoped>\n",
       "    .dataframe tbody tr th:only-of-type {\n",
       "        vertical-align: middle;\n",
       "    }\n",
       "\n",
       "    .dataframe tbody tr th {\n",
       "        vertical-align: top;\n",
       "    }\n",
       "\n",
       "    .dataframe thead th {\n",
       "        text-align: right;\n",
       "    }\n",
       "</style>\n",
       "<table border=\"1\" class=\"dataframe\">\n",
       "  <thead>\n",
       "    <tr style=\"text-align: right;\">\n",
       "      <th></th>\n",
       "      <th>Gender</th>\n",
       "      <th>FAVC</th>\n",
       "      <th>SMOKE</th>\n",
       "      <th>SCC</th>\n",
       "      <th>family_history_with_overweight</th>\n",
       "      <th>CALC_Always</th>\n",
       "      <th>CALC_Frequently</th>\n",
       "      <th>CALC_Sometimes</th>\n",
       "      <th>CALC_no</th>\n",
       "      <th>MTRANS_Automobile</th>\n",
       "      <th>MTRANS_Bike</th>\n",
       "      <th>MTRANS_Motorbike</th>\n",
       "      <th>MTRANS_Public_Transportation</th>\n",
       "      <th>MTRANS_Walking</th>\n",
       "      <th>CAEC</th>\n",
       "      <th>Age</th>\n",
       "      <th>Height</th>\n",
       "      <th>Weight</th>\n",
       "      <th>FCVC</th>\n",
       "      <th>NCP</th>\n",
       "      <th>CH2O</th>\n",
       "      <th>FAF</th>\n",
       "      <th>TUE</th>\n",
       "    </tr>\n",
       "  </thead>\n",
       "  <tbody>\n",
       "    <tr>\n",
       "      <th>0</th>\n",
       "      <td>0.0</td>\n",
       "      <td>0.0</td>\n",
       "      <td>0.0</td>\n",
       "      <td>0.0</td>\n",
       "      <td>1.0</td>\n",
       "      <td>0.0</td>\n",
       "      <td>0.0</td>\n",
       "      <td>0.0</td>\n",
       "      <td>1.0</td>\n",
       "      <td>0.0</td>\n",
       "      <td>0.0</td>\n",
       "      <td>0.0</td>\n",
       "      <td>1.0</td>\n",
       "      <td>0.0</td>\n",
       "      <td>1.0</td>\n",
       "      <td>21.0</td>\n",
       "      <td>1.62</td>\n",
       "      <td>64.0</td>\n",
       "      <td>2.0</td>\n",
       "      <td>3.0</td>\n",
       "      <td>2.0</td>\n",
       "      <td>0.0</td>\n",
       "      <td>1.0</td>\n",
       "    </tr>\n",
       "    <tr>\n",
       "      <th>1</th>\n",
       "      <td>0.0</td>\n",
       "      <td>0.0</td>\n",
       "      <td>1.0</td>\n",
       "      <td>1.0</td>\n",
       "      <td>1.0</td>\n",
       "      <td>0.0</td>\n",
       "      <td>0.0</td>\n",
       "      <td>1.0</td>\n",
       "      <td>0.0</td>\n",
       "      <td>0.0</td>\n",
       "      <td>0.0</td>\n",
       "      <td>0.0</td>\n",
       "      <td>1.0</td>\n",
       "      <td>0.0</td>\n",
       "      <td>1.0</td>\n",
       "      <td>21.0</td>\n",
       "      <td>1.52</td>\n",
       "      <td>56.0</td>\n",
       "      <td>3.0</td>\n",
       "      <td>3.0</td>\n",
       "      <td>3.0</td>\n",
       "      <td>3.0</td>\n",
       "      <td>0.0</td>\n",
       "    </tr>\n",
       "    <tr>\n",
       "      <th>2</th>\n",
       "      <td>1.0</td>\n",
       "      <td>0.0</td>\n",
       "      <td>0.0</td>\n",
       "      <td>0.0</td>\n",
       "      <td>1.0</td>\n",
       "      <td>0.0</td>\n",
       "      <td>1.0</td>\n",
       "      <td>0.0</td>\n",
       "      <td>0.0</td>\n",
       "      <td>0.0</td>\n",
       "      <td>0.0</td>\n",
       "      <td>0.0</td>\n",
       "      <td>1.0</td>\n",
       "      <td>0.0</td>\n",
       "      <td>1.0</td>\n",
       "      <td>23.0</td>\n",
       "      <td>1.80</td>\n",
       "      <td>77.0</td>\n",
       "      <td>2.0</td>\n",
       "      <td>3.0</td>\n",
       "      <td>2.0</td>\n",
       "      <td>2.0</td>\n",
       "      <td>1.0</td>\n",
       "    </tr>\n",
       "    <tr>\n",
       "      <th>3</th>\n",
       "      <td>1.0</td>\n",
       "      <td>0.0</td>\n",
       "      <td>0.0</td>\n",
       "      <td>0.0</td>\n",
       "      <td>0.0</td>\n",
       "      <td>0.0</td>\n",
       "      <td>1.0</td>\n",
       "      <td>0.0</td>\n",
       "      <td>0.0</td>\n",
       "      <td>0.0</td>\n",
       "      <td>0.0</td>\n",
       "      <td>0.0</td>\n",
       "      <td>0.0</td>\n",
       "      <td>1.0</td>\n",
       "      <td>1.0</td>\n",
       "      <td>27.0</td>\n",
       "      <td>1.80</td>\n",
       "      <td>87.0</td>\n",
       "      <td>3.0</td>\n",
       "      <td>3.0</td>\n",
       "      <td>2.0</td>\n",
       "      <td>2.0</td>\n",
       "      <td>0.0</td>\n",
       "    </tr>\n",
       "    <tr>\n",
       "      <th>4</th>\n",
       "      <td>1.0</td>\n",
       "      <td>0.0</td>\n",
       "      <td>0.0</td>\n",
       "      <td>0.0</td>\n",
       "      <td>0.0</td>\n",
       "      <td>0.0</td>\n",
       "      <td>0.0</td>\n",
       "      <td>1.0</td>\n",
       "      <td>0.0</td>\n",
       "      <td>0.0</td>\n",
       "      <td>0.0</td>\n",
       "      <td>0.0</td>\n",
       "      <td>1.0</td>\n",
       "      <td>0.0</td>\n",
       "      <td>1.0</td>\n",
       "      <td>22.0</td>\n",
       "      <td>1.78</td>\n",
       "      <td>89.8</td>\n",
       "      <td>2.0</td>\n",
       "      <td>1.0</td>\n",
       "      <td>2.0</td>\n",
       "      <td>0.0</td>\n",
       "      <td>0.0</td>\n",
       "    </tr>\n",
       "  </tbody>\n",
       "</table>\n",
       "</div>"
      ],
      "text/plain": [
       "   Gender  FAVC  SMOKE  SCC  family_history_with_overweight  CALC_Always  \\\n",
       "0     0.0   0.0    0.0  0.0                             1.0          0.0   \n",
       "1     0.0   0.0    1.0  1.0                             1.0          0.0   \n",
       "2     1.0   0.0    0.0  0.0                             1.0          0.0   \n",
       "3     1.0   0.0    0.0  0.0                             0.0          0.0   \n",
       "4     1.0   0.0    0.0  0.0                             0.0          0.0   \n",
       "\n",
       "   CALC_Frequently  CALC_Sometimes  CALC_no  MTRANS_Automobile  MTRANS_Bike  \\\n",
       "0              0.0             0.0      1.0                0.0          0.0   \n",
       "1              0.0             1.0      0.0                0.0          0.0   \n",
       "2              1.0             0.0      0.0                0.0          0.0   \n",
       "3              1.0             0.0      0.0                0.0          0.0   \n",
       "4              0.0             1.0      0.0                0.0          0.0   \n",
       "\n",
       "   MTRANS_Motorbike  MTRANS_Public_Transportation  MTRANS_Walking  CAEC   Age  \\\n",
       "0               0.0                           1.0             0.0   1.0  21.0   \n",
       "1               0.0                           1.0             0.0   1.0  21.0   \n",
       "2               0.0                           1.0             0.0   1.0  23.0   \n",
       "3               0.0                           0.0             1.0   1.0  27.0   \n",
       "4               0.0                           1.0             0.0   1.0  22.0   \n",
       "\n",
       "   Height  Weight  FCVC  NCP  CH2O  FAF  TUE  \n",
       "0    1.62    64.0   2.0  3.0   2.0  0.0  1.0  \n",
       "1    1.52    56.0   3.0  3.0   3.0  3.0  0.0  \n",
       "2    1.80    77.0   2.0  3.0   2.0  2.0  1.0  \n",
       "3    1.80    87.0   3.0  3.0   2.0  2.0  0.0  \n",
       "4    1.78    89.8   2.0  1.0   2.0  0.0  0.0  "
      ]
     },
     "execution_count": 9,
     "metadata": {},
     "output_type": "execute_result"
    }
   ],
   "source": [
    "# Custom function for binary encoding\n",
    "def binary_encode(obesity, columns):\n",
    "    obesity = obesity.copy() #ensure that the function is safe and does not modify the DataFrame passed to it unexpectedly.\n",
    "    label_encoder = LabelEncoder()\n",
    "    for col in columns:\n",
    "        obesity[col] = label_encoder.fit_transform(obesity[col])\n",
    "    return obesity\n",
    "\n",
    "# Columns for binary encoding, one-hot encoding, and category encoding\n",
    "binary_columns = ['Gender', 'FAVC', 'SMOKE', 'SCC', 'family_history_with_overweight']\n",
    "onehot_encoded_columns = ['CALC', 'MTRANS']\n",
    "category_encoded_columns = ['CAEC']\n",
    "\n",
    "# Creating a pipeline for binary encoding\n",
    "binary_pipeline = Pipeline(steps=[\n",
    "    ('binary_encode', FunctionTransformer(binary_encode, kw_args={'columns': binary_columns}))\n",
    "])\n",
    "\n",
    "# Creating a pipeline for category encoding\n",
    "category_pipeline = Pipeline(steps=[\n",
    "    ('category_encode', ce.OrdinalEncoder(cols=category_encoded_columns))\n",
    "])\n",
    "\n",
    "# Creating the ColumnTransformer\n",
    "categorical_transformer = ColumnTransformer(\n",
    "    transformers=[\n",
    "        ('binary', binary_pipeline, binary_columns),\n",
    "        ('onehot', OneHotEncoder(), onehot_encoded_columns),\n",
    "        ('category', category_pipeline, category_encoded_columns)\n",
    "    ],\n",
    "    remainder='passthrough'  # leave the rest of the columns unchanged\n",
    ")\n",
    "\n",
    "# Applying the ColumnTransformer to the DataFrame\n",
    "X_categorical_transformed = categorical_transformer.fit_transform(X)\n",
    "\n",
    "# Getting new column names\n",
    "binary_encoded_names = binary_columns  # Binary encoded columns names remain the same\n",
    "onehot_encoded_names = categorical_transformer.named_transformers_['onehot'].get_feature_names_out(onehot_encoded_columns)\n",
    "category_encoded_names = categorical_transformer.named_transformers_['category'].get_feature_names_out(category_encoded_columns)\n",
    "\n",
    "new_columns = binary_encoded_names + list(onehot_encoded_names) + list(category_encoded_names)\n",
    "new_columns += [col for col in X.columns if col not in binary_columns + onehot_encoded_columns + category_encoded_columns]\n",
    "\n",
    "# Creating the new DataFrame with the new column names\n",
    "obesity_encoded_obesity = pd.DataFrame(X_categorical_transformed, columns=new_columns)\n",
    "\n",
    "obesity_encoded_obesity.head()"
   ]
  },
  {
   "cell_type": "code",
   "execution_count": 10,
   "id": "34b1f4b8",
   "metadata": {
    "execution": {
     "iopub.execute_input": "2024-03-20T22:22:39.290833Z",
     "iopub.status.busy": "2024-03-20T22:22:39.289808Z",
     "iopub.status.idle": "2024-03-20T22:22:39.374036Z",
     "shell.execute_reply": "2024-03-20T22:22:39.372764Z"
    },
    "papermill": {
     "duration": 0.102861,
     "end_time": "2024-03-20T22:22:39.376677",
     "exception": false,
     "start_time": "2024-03-20T22:22:39.273816",
     "status": "completed"
    },
    "tags": []
   },
   "outputs": [
    {
     "data": {
      "text/html": [
       "<div>\n",
       "<style scoped>\n",
       "    .dataframe tbody tr th:only-of-type {\n",
       "        vertical-align: middle;\n",
       "    }\n",
       "\n",
       "    .dataframe tbody tr th {\n",
       "        vertical-align: top;\n",
       "    }\n",
       "\n",
       "    .dataframe thead th {\n",
       "        text-align: right;\n",
       "    }\n",
       "</style>\n",
       "<table border=\"1\" class=\"dataframe\">\n",
       "  <thead>\n",
       "    <tr style=\"text-align: right;\">\n",
       "      <th></th>\n",
       "      <th>Gender</th>\n",
       "      <th>FAVC</th>\n",
       "      <th>SMOKE</th>\n",
       "      <th>SCC</th>\n",
       "      <th>family_history_with_overweight</th>\n",
       "      <th>CALC_Always</th>\n",
       "      <th>CALC_Frequently</th>\n",
       "      <th>CALC_Sometimes</th>\n",
       "      <th>CALC_no</th>\n",
       "      <th>MTRANS_Automobile</th>\n",
       "      <th>MTRANS_Bike</th>\n",
       "      <th>MTRANS_Motorbike</th>\n",
       "      <th>MTRANS_Public_Transportation</th>\n",
       "      <th>MTRANS_Walking</th>\n",
       "      <th>CAEC</th>\n",
       "      <th>Age</th>\n",
       "      <th>Height</th>\n",
       "      <th>Weight</th>\n",
       "      <th>FCVC</th>\n",
       "      <th>NCP</th>\n",
       "      <th>CH2O</th>\n",
       "      <th>FAF</th>\n",
       "      <th>TUE</th>\n",
       "    </tr>\n",
       "  </thead>\n",
       "  <tbody>\n",
       "    <tr>\n",
       "      <th>count</th>\n",
       "      <td>2087.000000</td>\n",
       "      <td>2087.000000</td>\n",
       "      <td>2087.000000</td>\n",
       "      <td>2087.000000</td>\n",
       "      <td>2087.000000</td>\n",
       "      <td>2087.000000</td>\n",
       "      <td>2087.000000</td>\n",
       "      <td>2087.000000</td>\n",
       "      <td>2087.000000</td>\n",
       "      <td>2087.000000</td>\n",
       "      <td>2087.000000</td>\n",
       "      <td>2087.000000</td>\n",
       "      <td>2087.000000</td>\n",
       "      <td>2087.000000</td>\n",
       "      <td>2087.000000</td>\n",
       "      <td>2087.000000</td>\n",
       "      <td>2087.000000</td>\n",
       "      <td>2087.000000</td>\n",
       "      <td>2087.000000</td>\n",
       "      <td>2087.000000</td>\n",
       "      <td>2087.000000</td>\n",
       "      <td>2087.000000</td>\n",
       "      <td>2087.000000</td>\n",
       "    </tr>\n",
       "    <tr>\n",
       "      <th>mean</th>\n",
       "      <td>0.504073</td>\n",
       "      <td>0.883565</td>\n",
       "      <td>0.021083</td>\n",
       "      <td>0.045999</td>\n",
       "      <td>0.825108</td>\n",
       "      <td>0.000479</td>\n",
       "      <td>0.033541</td>\n",
       "      <td>0.661236</td>\n",
       "      <td>0.304744</td>\n",
       "      <td>0.218495</td>\n",
       "      <td>0.003354</td>\n",
       "      <td>0.005271</td>\n",
       "      <td>0.746526</td>\n",
       "      <td>0.026354</td>\n",
       "      <td>1.217058</td>\n",
       "      <td>24.353090</td>\n",
       "      <td>1.702674</td>\n",
       "      <td>86.858730</td>\n",
       "      <td>2.421466</td>\n",
       "      <td>2.701179</td>\n",
       "      <td>2.004749</td>\n",
       "      <td>1.012812</td>\n",
       "      <td>0.663035</td>\n",
       "    </tr>\n",
       "    <tr>\n",
       "      <th>std</th>\n",
       "      <td>0.500103</td>\n",
       "      <td>0.320823</td>\n",
       "      <td>0.143695</td>\n",
       "      <td>0.209533</td>\n",
       "      <td>0.379966</td>\n",
       "      <td>0.021890</td>\n",
       "      <td>0.180088</td>\n",
       "      <td>0.473403</td>\n",
       "      <td>0.460409</td>\n",
       "      <td>0.413324</td>\n",
       "      <td>0.057831</td>\n",
       "      <td>0.072426</td>\n",
       "      <td>0.435104</td>\n",
       "      <td>0.160223</td>\n",
       "      <td>0.572070</td>\n",
       "      <td>6.368801</td>\n",
       "      <td>0.093186</td>\n",
       "      <td>26.190847</td>\n",
       "      <td>0.534737</td>\n",
       "      <td>0.764614</td>\n",
       "      <td>0.608284</td>\n",
       "      <td>0.853475</td>\n",
       "      <td>0.608153</td>\n",
       "    </tr>\n",
       "    <tr>\n",
       "      <th>min</th>\n",
       "      <td>0.000000</td>\n",
       "      <td>0.000000</td>\n",
       "      <td>0.000000</td>\n",
       "      <td>0.000000</td>\n",
       "      <td>0.000000</td>\n",
       "      <td>0.000000</td>\n",
       "      <td>0.000000</td>\n",
       "      <td>0.000000</td>\n",
       "      <td>0.000000</td>\n",
       "      <td>0.000000</td>\n",
       "      <td>0.000000</td>\n",
       "      <td>0.000000</td>\n",
       "      <td>0.000000</td>\n",
       "      <td>0.000000</td>\n",
       "      <td>1.000000</td>\n",
       "      <td>14.000000</td>\n",
       "      <td>1.450000</td>\n",
       "      <td>39.000000</td>\n",
       "      <td>1.000000</td>\n",
       "      <td>1.000000</td>\n",
       "      <td>1.000000</td>\n",
       "      <td>0.000000</td>\n",
       "      <td>0.000000</td>\n",
       "    </tr>\n",
       "    <tr>\n",
       "      <th>25%</th>\n",
       "      <td>0.000000</td>\n",
       "      <td>1.000000</td>\n",
       "      <td>0.000000</td>\n",
       "      <td>0.000000</td>\n",
       "      <td>1.000000</td>\n",
       "      <td>0.000000</td>\n",
       "      <td>0.000000</td>\n",
       "      <td>0.000000</td>\n",
       "      <td>0.000000</td>\n",
       "      <td>0.000000</td>\n",
       "      <td>0.000000</td>\n",
       "      <td>0.000000</td>\n",
       "      <td>0.000000</td>\n",
       "      <td>0.000000</td>\n",
       "      <td>1.000000</td>\n",
       "      <td>19.915937</td>\n",
       "      <td>1.630178</td>\n",
       "      <td>66.000000</td>\n",
       "      <td>2.000000</td>\n",
       "      <td>2.697467</td>\n",
       "      <td>1.590922</td>\n",
       "      <td>0.124505</td>\n",
       "      <td>0.000000</td>\n",
       "    </tr>\n",
       "    <tr>\n",
       "      <th>50%</th>\n",
       "      <td>1.000000</td>\n",
       "      <td>1.000000</td>\n",
       "      <td>0.000000</td>\n",
       "      <td>0.000000</td>\n",
       "      <td>1.000000</td>\n",
       "      <td>0.000000</td>\n",
       "      <td>0.000000</td>\n",
       "      <td>1.000000</td>\n",
       "      <td>0.000000</td>\n",
       "      <td>0.000000</td>\n",
       "      <td>0.000000</td>\n",
       "      <td>0.000000</td>\n",
       "      <td>1.000000</td>\n",
       "      <td>0.000000</td>\n",
       "      <td>1.000000</td>\n",
       "      <td>22.847618</td>\n",
       "      <td>1.701584</td>\n",
       "      <td>83.101100</td>\n",
       "      <td>2.396265</td>\n",
       "      <td>3.000000</td>\n",
       "      <td>2.000000</td>\n",
       "      <td>1.000000</td>\n",
       "      <td>0.630866</td>\n",
       "    </tr>\n",
       "    <tr>\n",
       "      <th>75%</th>\n",
       "      <td>1.000000</td>\n",
       "      <td>1.000000</td>\n",
       "      <td>0.000000</td>\n",
       "      <td>0.000000</td>\n",
       "      <td>1.000000</td>\n",
       "      <td>0.000000</td>\n",
       "      <td>0.000000</td>\n",
       "      <td>1.000000</td>\n",
       "      <td>1.000000</td>\n",
       "      <td>0.000000</td>\n",
       "      <td>0.000000</td>\n",
       "      <td>0.000000</td>\n",
       "      <td>1.000000</td>\n",
       "      <td>0.000000</td>\n",
       "      <td>1.000000</td>\n",
       "      <td>26.000000</td>\n",
       "      <td>1.769491</td>\n",
       "      <td>108.015907</td>\n",
       "      <td>3.000000</td>\n",
       "      <td>3.000000</td>\n",
       "      <td>2.466193</td>\n",
       "      <td>1.678102</td>\n",
       "      <td>1.000000</td>\n",
       "    </tr>\n",
       "    <tr>\n",
       "      <th>max</th>\n",
       "      <td>1.000000</td>\n",
       "      <td>1.000000</td>\n",
       "      <td>1.000000</td>\n",
       "      <td>1.000000</td>\n",
       "      <td>1.000000</td>\n",
       "      <td>1.000000</td>\n",
       "      <td>1.000000</td>\n",
       "      <td>1.000000</td>\n",
       "      <td>1.000000</td>\n",
       "      <td>1.000000</td>\n",
       "      <td>1.000000</td>\n",
       "      <td>1.000000</td>\n",
       "      <td>1.000000</td>\n",
       "      <td>1.000000</td>\n",
       "      <td>4.000000</td>\n",
       "      <td>61.000000</td>\n",
       "      <td>1.980000</td>\n",
       "      <td>173.000000</td>\n",
       "      <td>3.000000</td>\n",
       "      <td>4.000000</td>\n",
       "      <td>3.000000</td>\n",
       "      <td>3.000000</td>\n",
       "      <td>2.000000</td>\n",
       "    </tr>\n",
       "  </tbody>\n",
       "</table>\n",
       "</div>"
      ],
      "text/plain": [
       "            Gender         FAVC        SMOKE          SCC  \\\n",
       "count  2087.000000  2087.000000  2087.000000  2087.000000   \n",
       "mean      0.504073     0.883565     0.021083     0.045999   \n",
       "std       0.500103     0.320823     0.143695     0.209533   \n",
       "min       0.000000     0.000000     0.000000     0.000000   \n",
       "25%       0.000000     1.000000     0.000000     0.000000   \n",
       "50%       1.000000     1.000000     0.000000     0.000000   \n",
       "75%       1.000000     1.000000     0.000000     0.000000   \n",
       "max       1.000000     1.000000     1.000000     1.000000   \n",
       "\n",
       "       family_history_with_overweight  CALC_Always  CALC_Frequently  \\\n",
       "count                     2087.000000  2087.000000      2087.000000   \n",
       "mean                         0.825108     0.000479         0.033541   \n",
       "std                          0.379966     0.021890         0.180088   \n",
       "min                          0.000000     0.000000         0.000000   \n",
       "25%                          1.000000     0.000000         0.000000   \n",
       "50%                          1.000000     0.000000         0.000000   \n",
       "75%                          1.000000     0.000000         0.000000   \n",
       "max                          1.000000     1.000000         1.000000   \n",
       "\n",
       "       CALC_Sometimes      CALC_no  MTRANS_Automobile  MTRANS_Bike  \\\n",
       "count     2087.000000  2087.000000        2087.000000  2087.000000   \n",
       "mean         0.661236     0.304744           0.218495     0.003354   \n",
       "std          0.473403     0.460409           0.413324     0.057831   \n",
       "min          0.000000     0.000000           0.000000     0.000000   \n",
       "25%          0.000000     0.000000           0.000000     0.000000   \n",
       "50%          1.000000     0.000000           0.000000     0.000000   \n",
       "75%          1.000000     1.000000           0.000000     0.000000   \n",
       "max          1.000000     1.000000           1.000000     1.000000   \n",
       "\n",
       "       MTRANS_Motorbike  MTRANS_Public_Transportation  MTRANS_Walking  \\\n",
       "count       2087.000000                   2087.000000     2087.000000   \n",
       "mean           0.005271                      0.746526        0.026354   \n",
       "std            0.072426                      0.435104        0.160223   \n",
       "min            0.000000                      0.000000        0.000000   \n",
       "25%            0.000000                      0.000000        0.000000   \n",
       "50%            0.000000                      1.000000        0.000000   \n",
       "75%            0.000000                      1.000000        0.000000   \n",
       "max            1.000000                      1.000000        1.000000   \n",
       "\n",
       "              CAEC          Age       Height       Weight         FCVC  \\\n",
       "count  2087.000000  2087.000000  2087.000000  2087.000000  2087.000000   \n",
       "mean      1.217058    24.353090     1.702674    86.858730     2.421466   \n",
       "std       0.572070     6.368801     0.093186    26.190847     0.534737   \n",
       "min       1.000000    14.000000     1.450000    39.000000     1.000000   \n",
       "25%       1.000000    19.915937     1.630178    66.000000     2.000000   \n",
       "50%       1.000000    22.847618     1.701584    83.101100     2.396265   \n",
       "75%       1.000000    26.000000     1.769491   108.015907     3.000000   \n",
       "max       4.000000    61.000000     1.980000   173.000000     3.000000   \n",
       "\n",
       "               NCP         CH2O          FAF          TUE  \n",
       "count  2087.000000  2087.000000  2087.000000  2087.000000  \n",
       "mean      2.701179     2.004749     1.012812     0.663035  \n",
       "std       0.764614     0.608284     0.853475     0.608153  \n",
       "min       1.000000     1.000000     0.000000     0.000000  \n",
       "25%       2.697467     1.590922     0.124505     0.000000  \n",
       "50%       3.000000     2.000000     1.000000     0.630866  \n",
       "75%       3.000000     2.466193     1.678102     1.000000  \n",
       "max       4.000000     3.000000     3.000000     2.000000  "
      ]
     },
     "execution_count": 10,
     "metadata": {},
     "output_type": "execute_result"
    }
   ],
   "source": [
    "obesity_encoded_obesity.describe()"
   ]
  },
  {
   "cell_type": "code",
   "execution_count": 11,
   "id": "aa121746",
   "metadata": {
    "execution": {
     "iopub.execute_input": "2024-03-20T22:22:39.408809Z",
     "iopub.status.busy": "2024-03-20T22:22:39.408069Z",
     "iopub.status.idle": "2024-03-20T22:22:39.414523Z",
     "shell.execute_reply": "2024-03-20T22:22:39.413185Z"
    },
    "papermill": {
     "duration": 0.025277,
     "end_time": "2024-03-20T22:22:39.417028",
     "exception": false,
     "start_time": "2024-03-20T22:22:39.391751",
     "status": "completed"
    },
    "tags": []
   },
   "outputs": [
    {
     "name": "stdout",
     "output_type": "stream",
     "text": [
      "2087 2087\n"
     ]
    }
   ],
   "source": [
    "print(len(obesity_encoded_obesity), len(y))"
   ]
  },
  {
   "cell_type": "code",
   "execution_count": 12,
   "id": "6edddc45",
   "metadata": {
    "execution": {
     "iopub.execute_input": "2024-03-20T22:22:39.449001Z",
     "iopub.status.busy": "2024-03-20T22:22:39.448581Z",
     "iopub.status.idle": "2024-03-20T22:22:39.457418Z",
     "shell.execute_reply": "2024-03-20T22:22:39.456605Z"
    },
    "papermill": {
     "duration": 0.027318,
     "end_time": "2024-03-20T22:22:39.459705",
     "exception": false,
     "start_time": "2024-03-20T22:22:39.432387",
     "status": "completed"
    },
    "tags": []
   },
   "outputs": [],
   "source": [
    "#Performing a Train-Test split\n",
    "from sklearn.model_selection import train_test_split\n",
    "X_train, X_test, y_train, y_test = train_test_split(obesity_encoded_obesity, y, test_size=0.25, random_state=42)\n",
    "\n"
   ]
  },
  {
   "cell_type": "markdown",
   "id": "5e4741d4",
   "metadata": {
    "papermill": {
     "duration": 0.014671,
     "end_time": "2024-03-20T22:22:39.489211",
     "exception": false,
     "start_time": "2024-03-20T22:22:39.474540",
     "status": "completed"
    },
    "tags": []
   },
   "source": [
    "<p style=\"background-color: #12f7ff; font-family: 'Trebuchet MS', sans-serif; color: #000; font-size: 150%; text-align: center; border-radius: 50px 15px; padding: 10px; box-shadow: 0 4px 8px 0 rgba(0, 0, 0, 0.2), 0 6px 20px 0 rgba(0, 0, 0, 0.19);\">\n",
    "    Evaluating a Logistic Regression Model\n",
    "</p>\n"
   ]
  },
  {
   "cell_type": "markdown",
   "id": "1c256629",
   "metadata": {
    "execution": {
     "iopub.execute_input": "2024-01-09T21:45:13.162286Z",
     "iopub.status.busy": "2024-01-09T21:45:13.161885Z",
     "iopub.status.idle": "2024-01-09T21:45:13.169797Z",
     "shell.execute_reply": "2024-01-09T21:45:13.168351Z",
     "shell.execute_reply.started": "2024-01-09T21:45:13.162254Z"
    },
    "papermill": {
     "duration": 0.016947,
     "end_time": "2024-03-20T22:22:39.525630",
     "exception": false,
     "start_time": "2024-03-20T22:22:39.508683",
     "status": "completed"
    },
    "tags": []
   },
   "source": [
    "Create a logistic regression model called `lr`. Include the parameter `max_iter=1000` to make sure that the model will converge when you try to fit it."
   ]
  },
  {
   "cell_type": "code",
   "execution_count": 13,
   "id": "fcb3f947",
   "metadata": {
    "execution": {
     "iopub.execute_input": "2024-03-20T22:22:39.557989Z",
     "iopub.status.busy": "2024-03-20T22:22:39.557252Z",
     "iopub.status.idle": "2024-03-20T22:22:39.563636Z",
     "shell.execute_reply": "2024-03-20T22:22:39.562364Z"
    },
    "papermill": {
     "duration": 0.025839,
     "end_time": "2024-03-20T22:22:39.566495",
     "exception": false,
     "start_time": "2024-03-20T22:22:39.540656",
     "status": "completed"
    },
    "tags": []
   },
   "outputs": [],
   "source": [
    "lr = LogisticRegression(max_iter=1000)"
   ]
  },
  {
   "cell_type": "markdown",
   "id": "c109bd17",
   "metadata": {
    "papermill": {
     "duration": 0.014582,
     "end_time": "2024-03-20T22:22:39.596053",
     "exception": false,
     "start_time": "2024-03-20T22:22:39.581471",
     "status": "completed"
    },
    "tags": []
   },
   "source": [
    "### Fit the model\n",
    "\n",
    "Use the `.fit()` method on `lr` to fit the model to `X` and `y`."
   ]
  },
  {
   "cell_type": "code",
   "execution_count": 14,
   "id": "d031cfd2",
   "metadata": {
    "execution": {
     "iopub.execute_input": "2024-03-20T22:22:39.628706Z",
     "iopub.status.busy": "2024-03-20T22:22:39.628222Z",
     "iopub.status.idle": "2024-03-20T22:22:40.356759Z",
     "shell.execute_reply": "2024-03-20T22:22:40.355901Z"
    },
    "papermill": {
     "duration": 0.747846,
     "end_time": "2024-03-20T22:22:40.358836",
     "exception": false,
     "start_time": "2024-03-20T22:22:39.610990",
     "status": "completed"
    },
    "tags": []
   },
   "outputs": [
    {
     "data": {
      "text/html": [
       "<style>#sk-container-id-1 {color: black;background-color: white;}#sk-container-id-1 pre{padding: 0;}#sk-container-id-1 div.sk-toggleable {background-color: white;}#sk-container-id-1 label.sk-toggleable__label {cursor: pointer;display: block;width: 100%;margin-bottom: 0;padding: 0.3em;box-sizing: border-box;text-align: center;}#sk-container-id-1 label.sk-toggleable__label-arrow:before {content: \"▸\";float: left;margin-right: 0.25em;color: #696969;}#sk-container-id-1 label.sk-toggleable__label-arrow:hover:before {color: black;}#sk-container-id-1 div.sk-estimator:hover label.sk-toggleable__label-arrow:before {color: black;}#sk-container-id-1 div.sk-toggleable__content {max-height: 0;max-width: 0;overflow: hidden;text-align: left;background-color: #f0f8ff;}#sk-container-id-1 div.sk-toggleable__content pre {margin: 0.2em;color: black;border-radius: 0.25em;background-color: #f0f8ff;}#sk-container-id-1 input.sk-toggleable__control:checked~div.sk-toggleable__content {max-height: 200px;max-width: 100%;overflow: auto;}#sk-container-id-1 input.sk-toggleable__control:checked~label.sk-toggleable__label-arrow:before {content: \"▾\";}#sk-container-id-1 div.sk-estimator input.sk-toggleable__control:checked~label.sk-toggleable__label {background-color: #d4ebff;}#sk-container-id-1 div.sk-label input.sk-toggleable__control:checked~label.sk-toggleable__label {background-color: #d4ebff;}#sk-container-id-1 input.sk-hidden--visually {border: 0;clip: rect(1px 1px 1px 1px);clip: rect(1px, 1px, 1px, 1px);height: 1px;margin: -1px;overflow: hidden;padding: 0;position: absolute;width: 1px;}#sk-container-id-1 div.sk-estimator {font-family: monospace;background-color: #f0f8ff;border: 1px dotted black;border-radius: 0.25em;box-sizing: border-box;margin-bottom: 0.5em;}#sk-container-id-1 div.sk-estimator:hover {background-color: #d4ebff;}#sk-container-id-1 div.sk-parallel-item::after {content: \"\";width: 100%;border-bottom: 1px solid gray;flex-grow: 1;}#sk-container-id-1 div.sk-label:hover label.sk-toggleable__label {background-color: #d4ebff;}#sk-container-id-1 div.sk-serial::before {content: \"\";position: absolute;border-left: 1px solid gray;box-sizing: border-box;top: 0;bottom: 0;left: 50%;z-index: 0;}#sk-container-id-1 div.sk-serial {display: flex;flex-direction: column;align-items: center;background-color: white;padding-right: 0.2em;padding-left: 0.2em;position: relative;}#sk-container-id-1 div.sk-item {position: relative;z-index: 1;}#sk-container-id-1 div.sk-parallel {display: flex;align-items: stretch;justify-content: center;background-color: white;position: relative;}#sk-container-id-1 div.sk-item::before, #sk-container-id-1 div.sk-parallel-item::before {content: \"\";position: absolute;border-left: 1px solid gray;box-sizing: border-box;top: 0;bottom: 0;left: 50%;z-index: -1;}#sk-container-id-1 div.sk-parallel-item {display: flex;flex-direction: column;z-index: 1;position: relative;background-color: white;}#sk-container-id-1 div.sk-parallel-item:first-child::after {align-self: flex-end;width: 50%;}#sk-container-id-1 div.sk-parallel-item:last-child::after {align-self: flex-start;width: 50%;}#sk-container-id-1 div.sk-parallel-item:only-child::after {width: 0;}#sk-container-id-1 div.sk-dashed-wrapped {border: 1px dashed gray;margin: 0 0.4em 0.5em 0.4em;box-sizing: border-box;padding-bottom: 0.4em;background-color: white;}#sk-container-id-1 div.sk-label label {font-family: monospace;font-weight: bold;display: inline-block;line-height: 1.2em;}#sk-container-id-1 div.sk-label-container {text-align: center;}#sk-container-id-1 div.sk-container {/* jupyter's `normalize.less` sets `[hidden] { display: none; }` but bootstrap.min.css set `[hidden] { display: none !important; }` so we also need the `!important` here to be able to override the default hidden behavior on the sphinx rendered scikit-learn.org. See: https://github.com/scikit-learn/scikit-learn/issues/21755 */display: inline-block !important;position: relative;}#sk-container-id-1 div.sk-text-repr-fallback {display: none;}</style><div id=\"sk-container-id-1\" class=\"sk-top-container\"><div class=\"sk-text-repr-fallback\"><pre>LogisticRegression(max_iter=1000)</pre><b>In a Jupyter environment, please rerun this cell to show the HTML representation or trust the notebook. <br />On GitHub, the HTML representation is unable to render, please try loading this page with nbviewer.org.</b></div><div class=\"sk-container\" hidden><div class=\"sk-item\"><div class=\"sk-estimator sk-toggleable\"><input class=\"sk-toggleable__control sk-hidden--visually\" id=\"sk-estimator-id-1\" type=\"checkbox\" checked><label for=\"sk-estimator-id-1\" class=\"sk-toggleable__label sk-toggleable__label-arrow\">LogisticRegression</label><div class=\"sk-toggleable__content\"><pre>LogisticRegression(max_iter=1000)</pre></div></div></div></div></div>"
      ],
      "text/plain": [
       "LogisticRegression(max_iter=1000)"
      ]
     },
     "execution_count": 14,
     "metadata": {},
     "output_type": "execute_result"
    }
   ],
   "source": [
    "lr.fit(X_train,y_train)"
   ]
  },
  {
   "cell_type": "markdown",
   "id": "66bdbd88",
   "metadata": {
    "papermill": {
     "duration": 0.015698,
     "end_time": "2024-03-20T22:22:40.390646",
     "exception": false,
     "start_time": "2024-03-20T22:22:40.374948",
     "status": "completed"
    },
    "tags": []
   },
   "source": [
    "### Model accuracy\n",
    "\n",
    "A model's _accuracy_ is the proportion of classes that the model correctly predicts. is Compute and print the accuracy of `lr` by using the `.score()` method. What percentage of respondents did the model correctly predict as being either obese or not obese? You may want to write this number down somewhere so that you can refer to it during future tasks."
   ]
  },
  {
   "cell_type": "code",
   "execution_count": 15,
   "id": "f8f3c3f6",
   "metadata": {
    "execution": {
     "iopub.execute_input": "2024-03-20T22:22:40.423640Z",
     "iopub.status.busy": "2024-03-20T22:22:40.422784Z",
     "iopub.status.idle": "2024-03-20T22:22:40.435086Z",
     "shell.execute_reply": "2024-03-20T22:22:40.433693Z"
    },
    "papermill": {
     "duration": 0.031302,
     "end_time": "2024-03-20T22:22:40.437314",
     "exception": false,
     "start_time": "2024-03-20T22:22:40.406012",
     "status": "completed"
    },
    "tags": []
   },
   "outputs": [
    {
     "name": "stdout",
     "output_type": "stream",
     "text": [
      "0.8306709265175719\n"
     ]
    }
   ],
   "source": [
    "print(lr.score(X_train,y_train))"
   ]
  },
  {
   "cell_type": "markdown",
   "id": "2a47cb65",
   "metadata": {
    "papermill": {
     "duration": 0.014769,
     "end_time": "2024-03-20T22:22:40.467270",
     "exception": false,
     "start_time": "2024-03-20T22:22:40.452501",
     "status": "completed"
    },
    "tags": []
   },
   "source": [
    "\n",
    "<p style=\"background-color: #12f7ff; font-family: 'Trebuchet MS', sans-serif; color: #000; font-size: 150%; text-align: center; border-radius: 50px 15px; padding: 10px; box-shadow: 0 4px 8px 0 rgba(0, 0, 0, 0.2), 0 6px 20px 0 rgba(0, 0, 0, 0.19);\">\n",
    "    Wrapper Methods\n",
    "</p>\n",
    "\n"
   ]
  },
  {
   "cell_type": "markdown",
   "id": "b8f8f007",
   "metadata": {
    "papermill": {
     "duration": 0.014678,
     "end_time": "2024-03-20T22:22:40.497173",
     "exception": false,
     "start_time": "2024-03-20T22:22:40.482495",
     "status": "completed"
    },
    "tags": []
   },
   "source": [
    "## Sequential Forward Selection\n",
    "\n",
    "Now that you've created a logistic regression model and evaluated its performance, we are ready to do some feature selection. "
   ]
  },
  {
   "cell_type": "code",
   "execution_count": 16,
   "id": "14b28c06",
   "metadata": {
    "execution": {
     "iopub.execute_input": "2024-03-20T22:22:40.529740Z",
     "iopub.status.busy": "2024-03-20T22:22:40.528541Z",
     "iopub.status.idle": "2024-03-20T22:22:40.534556Z",
     "shell.execute_reply": "2024-03-20T22:22:40.533705Z"
    },
    "papermill": {
     "duration": 0.024497,
     "end_time": "2024-03-20T22:22:40.536965",
     "exception": false,
     "start_time": "2024-03-20T22:22:40.512468",
     "status": "completed"
    },
    "tags": []
   },
   "outputs": [],
   "source": [
    "#we alrady importing this package: from mlxtend.feature_selection import SequentialFeatureSelector as SFS\n",
    "\n",
    "sfs = SFS(lr,\n",
    "         k_features=10,\n",
    "         forward = True,\n",
    "         floating=False,\n",
    "         cv=0,\n",
    "         scoring='accuracy')"
   ]
  },
  {
   "cell_type": "markdown",
   "id": "6bfb0dc4",
   "metadata": {
    "papermill": {
     "duration": 0.015076,
     "end_time": "2024-03-20T22:22:40.567147",
     "exception": false,
     "start_time": "2024-03-20T22:22:40.552071",
     "status": "completed"
    },
    "tags": []
   },
   "source": [
    "### Fit the model"
   ]
  },
  {
   "cell_type": "code",
   "execution_count": 17,
   "id": "1788906d",
   "metadata": {
    "execution": {
     "iopub.execute_input": "2024-03-20T22:22:40.598439Z",
     "iopub.status.busy": "2024-03-20T22:22:40.598066Z",
     "iopub.status.idle": "2024-03-20T22:24:12.470368Z",
     "shell.execute_reply": "2024-03-20T22:24:12.469108Z"
    },
    "papermill": {
     "duration": 91.906583,
     "end_time": "2024-03-20T22:24:12.488657",
     "exception": false,
     "start_time": "2024-03-20T22:22:40.582074",
     "status": "completed"
    },
    "tags": []
   },
   "outputs": [
    {
     "data": {
      "text/html": [
       "<style>#sk-container-id-2 {color: black;background-color: white;}#sk-container-id-2 pre{padding: 0;}#sk-container-id-2 div.sk-toggleable {background-color: white;}#sk-container-id-2 label.sk-toggleable__label {cursor: pointer;display: block;width: 100%;margin-bottom: 0;padding: 0.3em;box-sizing: border-box;text-align: center;}#sk-container-id-2 label.sk-toggleable__label-arrow:before {content: \"▸\";float: left;margin-right: 0.25em;color: #696969;}#sk-container-id-2 label.sk-toggleable__label-arrow:hover:before {color: black;}#sk-container-id-2 div.sk-estimator:hover label.sk-toggleable__label-arrow:before {color: black;}#sk-container-id-2 div.sk-toggleable__content {max-height: 0;max-width: 0;overflow: hidden;text-align: left;background-color: #f0f8ff;}#sk-container-id-2 div.sk-toggleable__content pre {margin: 0.2em;color: black;border-radius: 0.25em;background-color: #f0f8ff;}#sk-container-id-2 input.sk-toggleable__control:checked~div.sk-toggleable__content {max-height: 200px;max-width: 100%;overflow: auto;}#sk-container-id-2 input.sk-toggleable__control:checked~label.sk-toggleable__label-arrow:before {content: \"▾\";}#sk-container-id-2 div.sk-estimator input.sk-toggleable__control:checked~label.sk-toggleable__label {background-color: #d4ebff;}#sk-container-id-2 div.sk-label input.sk-toggleable__control:checked~label.sk-toggleable__label {background-color: #d4ebff;}#sk-container-id-2 input.sk-hidden--visually {border: 0;clip: rect(1px 1px 1px 1px);clip: rect(1px, 1px, 1px, 1px);height: 1px;margin: -1px;overflow: hidden;padding: 0;position: absolute;width: 1px;}#sk-container-id-2 div.sk-estimator {font-family: monospace;background-color: #f0f8ff;border: 1px dotted black;border-radius: 0.25em;box-sizing: border-box;margin-bottom: 0.5em;}#sk-container-id-2 div.sk-estimator:hover {background-color: #d4ebff;}#sk-container-id-2 div.sk-parallel-item::after {content: \"\";width: 100%;border-bottom: 1px solid gray;flex-grow: 1;}#sk-container-id-2 div.sk-label:hover label.sk-toggleable__label {background-color: #d4ebff;}#sk-container-id-2 div.sk-serial::before {content: \"\";position: absolute;border-left: 1px solid gray;box-sizing: border-box;top: 0;bottom: 0;left: 50%;z-index: 0;}#sk-container-id-2 div.sk-serial {display: flex;flex-direction: column;align-items: center;background-color: white;padding-right: 0.2em;padding-left: 0.2em;position: relative;}#sk-container-id-2 div.sk-item {position: relative;z-index: 1;}#sk-container-id-2 div.sk-parallel {display: flex;align-items: stretch;justify-content: center;background-color: white;position: relative;}#sk-container-id-2 div.sk-item::before, #sk-container-id-2 div.sk-parallel-item::before {content: \"\";position: absolute;border-left: 1px solid gray;box-sizing: border-box;top: 0;bottom: 0;left: 50%;z-index: -1;}#sk-container-id-2 div.sk-parallel-item {display: flex;flex-direction: column;z-index: 1;position: relative;background-color: white;}#sk-container-id-2 div.sk-parallel-item:first-child::after {align-self: flex-end;width: 50%;}#sk-container-id-2 div.sk-parallel-item:last-child::after {align-self: flex-start;width: 50%;}#sk-container-id-2 div.sk-parallel-item:only-child::after {width: 0;}#sk-container-id-2 div.sk-dashed-wrapped {border: 1px dashed gray;margin: 0 0.4em 0.5em 0.4em;box-sizing: border-box;padding-bottom: 0.4em;background-color: white;}#sk-container-id-2 div.sk-label label {font-family: monospace;font-weight: bold;display: inline-block;line-height: 1.2em;}#sk-container-id-2 div.sk-label-container {text-align: center;}#sk-container-id-2 div.sk-container {/* jupyter's `normalize.less` sets `[hidden] { display: none; }` but bootstrap.min.css set `[hidden] { display: none !important; }` so we also need the `!important` here to be able to override the default hidden behavior on the sphinx rendered scikit-learn.org. See: https://github.com/scikit-learn/scikit-learn/issues/21755 */display: inline-block !important;position: relative;}#sk-container-id-2 div.sk-text-repr-fallback {display: none;}</style><div id=\"sk-container-id-2\" class=\"sk-top-container\"><div class=\"sk-text-repr-fallback\"><pre>SequentialFeatureSelector(cv=0, estimator=LogisticRegression(max_iter=1000),\n",
       "                          k_features=(10, 10), scoring=&#x27;accuracy&#x27;)</pre><b>In a Jupyter environment, please rerun this cell to show the HTML representation or trust the notebook. <br />On GitHub, the HTML representation is unable to render, please try loading this page with nbviewer.org.</b></div><div class=\"sk-container\" hidden><div class=\"sk-item sk-dashed-wrapped\"><div class=\"sk-label-container\"><div class=\"sk-label sk-toggleable\"><input class=\"sk-toggleable__control sk-hidden--visually\" id=\"sk-estimator-id-2\" type=\"checkbox\" ><label for=\"sk-estimator-id-2\" class=\"sk-toggleable__label sk-toggleable__label-arrow\">SequentialFeatureSelector</label><div class=\"sk-toggleable__content\"><pre>SequentialFeatureSelector(cv=0, estimator=LogisticRegression(max_iter=1000),\n",
       "                          k_features=(10, 10), scoring=&#x27;accuracy&#x27;)</pre></div></div></div><div class=\"sk-parallel\"><div class=\"sk-parallel-item\"><div class=\"sk-item\"><div class=\"sk-label-container\"><div class=\"sk-label sk-toggleable\"><input class=\"sk-toggleable__control sk-hidden--visually\" id=\"sk-estimator-id-3\" type=\"checkbox\" ><label for=\"sk-estimator-id-3\" class=\"sk-toggleable__label sk-toggleable__label-arrow\">estimator: LogisticRegression</label><div class=\"sk-toggleable__content\"><pre>LogisticRegression(max_iter=1000)</pre></div></div></div><div class=\"sk-serial\"><div class=\"sk-item\"><div class=\"sk-estimator sk-toggleable\"><input class=\"sk-toggleable__control sk-hidden--visually\" id=\"sk-estimator-id-4\" type=\"checkbox\" ><label for=\"sk-estimator-id-4\" class=\"sk-toggleable__label sk-toggleable__label-arrow\">LogisticRegression</label><div class=\"sk-toggleable__content\"><pre>LogisticRegression(max_iter=1000)</pre></div></div></div></div></div></div></div></div></div></div>"
      ],
      "text/plain": [
       "SequentialFeatureSelector(cv=0, estimator=LogisticRegression(max_iter=1000),\n",
       "                          k_features=(10, 10), scoring='accuracy')"
      ]
     },
     "execution_count": 17,
     "metadata": {},
     "output_type": "execute_result"
    }
   ],
   "source": [
    "sfs.fit(X_train,y_train)"
   ]
  },
  {
   "cell_type": "markdown",
   "id": "5154fe93",
   "metadata": {
    "papermill": {
     "duration": 0.015178,
     "end_time": "2024-03-20T22:24:12.519514",
     "exception": false,
     "start_time": "2024-03-20T22:24:12.504336",
     "status": "completed"
    },
    "tags": []
   },
   "source": [
    "### Inspect the results"
   ]
  },
  {
   "cell_type": "code",
   "execution_count": 18,
   "id": "cc930bd0",
   "metadata": {
    "execution": {
     "iopub.execute_input": "2024-03-20T22:24:12.552141Z",
     "iopub.status.busy": "2024-03-20T22:24:12.551722Z",
     "iopub.status.idle": "2024-03-20T22:24:12.557555Z",
     "shell.execute_reply": "2024-03-20T22:24:12.556480Z"
    },
    "papermill": {
     "duration": 0.024759,
     "end_time": "2024-03-20T22:24:12.559939",
     "exception": false,
     "start_time": "2024-03-20T22:24:12.535180",
     "status": "completed"
    },
    "tags": []
   },
   "outputs": [
    {
     "name": "stdout",
     "output_type": "stream",
     "text": [
      "{'feature_idx': (0, 1, 5, 6, 8, 9, 11, 15, 16, 17), 'cv_scores': array([0.83450479]), 'avg_score': 0.8345047923322684, 'feature_names': ('Gender', 'FAVC', 'CALC_Always', 'CALC_Frequently', 'CALC_no', 'MTRANS_Automobile', 'MTRANS_Motorbike', 'Age', 'Height', 'Weight')}\n"
     ]
    }
   ],
   "source": [
    "print(sfs.subsets_[10])"
   ]
  },
  {
   "cell_type": "markdown",
   "id": "5a46c736",
   "metadata": {
    "papermill": {
     "duration": 0.014945,
     "end_time": "2024-03-20T22:24:12.590644",
     "exception": false,
     "start_time": "2024-03-20T22:24:12.575699",
     "status": "completed"
    },
    "tags": []
   },
   "source": [
    "### Chosen features and model accuracy\n",
    "\n",
    "Use the dictionary `sfs.subsets_[9]` to print a tuple of chosen feature names. Then use it to print the accuracy of the model after doing sequential forward selection. How does this compare to the model's accuracy on all available features?"
   ]
  },
  {
   "cell_type": "code",
   "execution_count": 19,
   "id": "587a9ff2",
   "metadata": {
    "execution": {
     "iopub.execute_input": "2024-03-20T22:24:12.623544Z",
     "iopub.status.busy": "2024-03-20T22:24:12.623114Z",
     "iopub.status.idle": "2024-03-20T22:24:12.629870Z",
     "shell.execute_reply": "2024-03-20T22:24:12.628601Z"
    },
    "papermill": {
     "duration": 0.025863,
     "end_time": "2024-03-20T22:24:12.631984",
     "exception": false,
     "start_time": "2024-03-20T22:24:12.606121",
     "status": "completed"
    },
    "tags": []
   },
   "outputs": [
    {
     "name": "stdout",
     "output_type": "stream",
     "text": [
      "('Gender', 'FAVC', 'CALC_Always', 'CALC_Frequently', 'CALC_no', 'MTRANS_Automobile', 'MTRANS_Motorbike', 'Age', 'Height', 'Weight')\n",
      "None\n",
      "0.8345047923322684\n"
     ]
    }
   ],
   "source": [
    "# Print the chosen feature names\n",
    "print(print(sfs.subsets_[10]['feature_names']))\n",
    "# Print the accuracy of the model after sequential forward selection\n",
    "print(sfs.subsets_[10]['avg_score'])"
   ]
  },
  {
   "cell_type": "markdown",
   "id": "792522a0",
   "metadata": {
    "papermill": {
     "duration": 0.015216,
     "end_time": "2024-03-20T22:24:12.662949",
     "exception": false,
     "start_time": "2024-03-20T22:24:12.647733",
     "status": "completed"
    },
    "tags": []
   },
   "source": [
    "### Visualize model accuracy\n",
    "\n",
    "It can be helpful to visualize the results of sequential forward selection and see how accuracy is affected as each feature is added. Use the code `plot_sfs(sfs.get_metric_dict())` to plot the model accuracy as a function of the number of features used. Make sure to show your plot as well."
   ]
  },
  {
   "cell_type": "code",
   "execution_count": 20,
   "id": "59d7ad3b",
   "metadata": {
    "execution": {
     "iopub.execute_input": "2024-03-20T22:24:12.696111Z",
     "iopub.status.busy": "2024-03-20T22:24:12.695695Z",
     "iopub.status.idle": "2024-03-20T22:24:12.949448Z",
     "shell.execute_reply": "2024-03-20T22:24:12.948357Z"
    },
    "papermill": {
     "duration": 0.273473,
     "end_time": "2024-03-20T22:24:12.952051",
     "exception": false,
     "start_time": "2024-03-20T22:24:12.678578",
     "status": "completed"
    },
    "tags": []
   },
   "outputs": [
    {
     "data": {
      "text/plain": [
       "<Figure size 2000x3000 with 0 Axes>"
      ]
     },
     "metadata": {},
     "output_type": "display_data"
    },
    {
     "data": {
      "image/png": "[encoded data removed]",
      "text/plain": [
       "<Figure size 640x480 with 1 Axes>"
      ]
     },
     "metadata": {},
     "output_type": "display_data"
    }
   ],
   "source": [
    "%matplotlib inline\n",
    "\n",
    "plt.figure(figsize=(20, 30))  # Define the figure size before plotting\n",
    "plot_sfs(sfs.get_metric_dict())  # Your plotting function should come after setting the figure size\n",
    "plt.show()\n"
   ]
  },
  {
   "cell_type": "markdown",
   "id": "ae3f6000",
   "metadata": {
    "papermill": {
     "duration": 0.016937,
     "end_time": "2024-03-20T22:24:12.985886",
     "exception": false,
     "start_time": "2024-03-20T22:24:12.968949",
     "status": "completed"
    },
    "tags": []
   },
   "source": [
    "\n",
    "<p style=\"background-color: #12f7ff; font-family: 'Trebuchet MS', sans-serif; color: #000; font-size: 150%; text-align: center; border-radius: 50px 15px; padding: 10px; box-shadow: 0 4px 8px 0 rgba(0, 0, 0, 0.2), 0 6px 20px 0 rgba(0, 0, 0, 0.19);\">\n",
    "   Grid Search\n",
    "</p>\n",
    "\n"
   ]
  },
  {
   "cell_type": "code",
   "execution_count": 21,
   "id": "3ea516cc",
   "metadata": {
    "execution": {
     "iopub.execute_input": "2024-03-20T22:24:13.021765Z",
     "iopub.status.busy": "2024-03-20T22:24:13.021351Z",
     "iopub.status.idle": "2024-03-20T22:24:13.027125Z",
     "shell.execute_reply": "2024-03-20T22:24:13.026070Z"
    },
    "papermill": {
     "duration": 0.026653,
     "end_time": "2024-03-20T22:24:13.029611",
     "exception": false,
     "start_time": "2024-03-20T22:24:13.002958",
     "status": "completed"
    },
    "tags": []
   },
   "outputs": [],
   "source": [
    "from sklearn.model_selection import GridSearchCV, cross_val_score\n",
    "\n",
    "# Define the parameter grid for Grid Search\n",
    "param_grid = {'C': [0.01, 0.1, 1, 10, 100], 'penalty': ['l1', 'l2'], 'max_iter': [100, 200, 500, 1000]}\n"
   ]
  },
  {
   "cell_type": "markdown",
   "id": "7d63a675",
   "metadata": {
    "papermill": {
     "duration": 0.01763,
     "end_time": "2024-03-20T22:24:13.064724",
     "exception": false,
     "start_time": "2024-03-20T22:24:13.047094",
     "status": "completed"
    },
    "tags": []
   },
   "source": []
  },
  {
   "cell_type": "code",
   "execution_count": 22,
   "id": "67af0416",
   "metadata": {
    "execution": {
     "iopub.execute_input": "2024-03-20T22:24:13.100107Z",
     "iopub.status.busy": "2024-03-20T22:24:13.099700Z",
     "iopub.status.idle": "2024-03-20T22:24:42.378035Z",
     "shell.execute_reply": "2024-03-20T22:24:42.376892Z"
    },
    "papermill": {
     "duration": 29.299333,
     "end_time": "2024-03-20T22:24:42.380698",
     "exception": false,
     "start_time": "2024-03-20T22:24:13.081365",
     "status": "completed"
    },
    "tags": []
   },
   "outputs": [
    {
     "data": {
      "text/html": [
       "<style>#sk-container-id-3 {color: black;background-color: white;}#sk-container-id-3 pre{padding: 0;}#sk-container-id-3 div.sk-toggleable {background-color: white;}#sk-container-id-3 label.sk-toggleable__label {cursor: pointer;display: block;width: 100%;margin-bottom: 0;padding: 0.3em;box-sizing: border-box;text-align: center;}#sk-container-id-3 label.sk-toggleable__label-arrow:before {content: \"▸\";float: left;margin-right: 0.25em;color: #696969;}#sk-container-id-3 label.sk-toggleable__label-arrow:hover:before {color: black;}#sk-container-id-3 div.sk-estimator:hover label.sk-toggleable__label-arrow:before {color: black;}#sk-container-id-3 div.sk-toggleable__content {max-height: 0;max-width: 0;overflow: hidden;text-align: left;background-color: #f0f8ff;}#sk-container-id-3 div.sk-toggleable__content pre {margin: 0.2em;color: black;border-radius: 0.25em;background-color: #f0f8ff;}#sk-container-id-3 input.sk-toggleable__control:checked~div.sk-toggleable__content {max-height: 200px;max-width: 100%;overflow: auto;}#sk-container-id-3 input.sk-toggleable__control:checked~label.sk-toggleable__label-arrow:before {content: \"▾\";}#sk-container-id-3 div.sk-estimator input.sk-toggleable__control:checked~label.sk-toggleable__label {background-color: #d4ebff;}#sk-container-id-3 div.sk-label input.sk-toggleable__control:checked~label.sk-toggleable__label {background-color: #d4ebff;}#sk-container-id-3 input.sk-hidden--visually {border: 0;clip: rect(1px 1px 1px 1px);clip: rect(1px, 1px, 1px, 1px);height: 1px;margin: -1px;overflow: hidden;padding: 0;position: absolute;width: 1px;}#sk-container-id-3 div.sk-estimator {font-family: monospace;background-color: #f0f8ff;border: 1px dotted black;border-radius: 0.25em;box-sizing: border-box;margin-bottom: 0.5em;}#sk-container-id-3 div.sk-estimator:hover {background-color: #d4ebff;}#sk-container-id-3 div.sk-parallel-item::after {content: \"\";width: 100%;border-bottom: 1px solid gray;flex-grow: 1;}#sk-container-id-3 div.sk-label:hover label.sk-toggleable__label {background-color: #d4ebff;}#sk-container-id-3 div.sk-serial::before {content: \"\";position: absolute;border-left: 1px solid gray;box-sizing: border-box;top: 0;bottom: 0;left: 50%;z-index: 0;}#sk-container-id-3 div.sk-serial {display: flex;flex-direction: column;align-items: center;background-color: white;padding-right: 0.2em;padding-left: 0.2em;position: relative;}#sk-container-id-3 div.sk-item {position: relative;z-index: 1;}#sk-container-id-3 div.sk-parallel {display: flex;align-items: stretch;justify-content: center;background-color: white;position: relative;}#sk-container-id-3 div.sk-item::before, #sk-container-id-3 div.sk-parallel-item::before {content: \"\";position: absolute;border-left: 1px solid gray;box-sizing: border-box;top: 0;bottom: 0;left: 50%;z-index: -1;}#sk-container-id-3 div.sk-parallel-item {display: flex;flex-direction: column;z-index: 1;position: relative;background-color: white;}#sk-container-id-3 div.sk-parallel-item:first-child::after {align-self: flex-end;width: 50%;}#sk-container-id-3 div.sk-parallel-item:last-child::after {align-self: flex-start;width: 50%;}#sk-container-id-3 div.sk-parallel-item:only-child::after {width: 0;}#sk-container-id-3 div.sk-dashed-wrapped {border: 1px dashed gray;margin: 0 0.4em 0.5em 0.4em;box-sizing: border-box;padding-bottom: 0.4em;background-color: white;}#sk-container-id-3 div.sk-label label {font-family: monospace;font-weight: bold;display: inline-block;line-height: 1.2em;}#sk-container-id-3 div.sk-label-container {text-align: center;}#sk-container-id-3 div.sk-container {/* jupyter's `normalize.less` sets `[hidden] { display: none; }` but bootstrap.min.css set `[hidden] { display: none !important; }` so we also need the `!important` here to be able to override the default hidden behavior on the sphinx rendered scikit-learn.org. See: https://github.com/scikit-learn/scikit-learn/issues/21755 */display: inline-block !important;position: relative;}#sk-container-id-3 div.sk-text-repr-fallback {display: none;}</style><div id=\"sk-container-id-3\" class=\"sk-top-container\"><div class=\"sk-text-repr-fallback\"><pre>GridSearchCV(cv=5, estimator=LogisticRegression(max_iter=1000),\n",
       "             param_grid={&#x27;C&#x27;: [0.01, 0.1, 1, 10, 100],\n",
       "                         &#x27;max_iter&#x27;: [100, 200, 500, 1000],\n",
       "                         &#x27;penalty&#x27;: [&#x27;l1&#x27;, &#x27;l2&#x27;]},\n",
       "             scoring=&#x27;accuracy&#x27;)</pre><b>In a Jupyter environment, please rerun this cell to show the HTML representation or trust the notebook. <br />On GitHub, the HTML representation is unable to render, please try loading this page with nbviewer.org.</b></div><div class=\"sk-container\" hidden><div class=\"sk-item sk-dashed-wrapped\"><div class=\"sk-label-container\"><div class=\"sk-label sk-toggleable\"><input class=\"sk-toggleable__control sk-hidden--visually\" id=\"sk-estimator-id-5\" type=\"checkbox\" ><label for=\"sk-estimator-id-5\" class=\"sk-toggleable__label sk-toggleable__label-arrow\">GridSearchCV</label><div class=\"sk-toggleable__content\"><pre>GridSearchCV(cv=5, estimator=LogisticRegression(max_iter=1000),\n",
       "             param_grid={&#x27;C&#x27;: [0.01, 0.1, 1, 10, 100],\n",
       "                         &#x27;max_iter&#x27;: [100, 200, 500, 1000],\n",
       "                         &#x27;penalty&#x27;: [&#x27;l1&#x27;, &#x27;l2&#x27;]},\n",
       "             scoring=&#x27;accuracy&#x27;)</pre></div></div></div><div class=\"sk-parallel\"><div class=\"sk-parallel-item\"><div class=\"sk-item\"><div class=\"sk-label-container\"><div class=\"sk-label sk-toggleable\"><input class=\"sk-toggleable__control sk-hidden--visually\" id=\"sk-estimator-id-6\" type=\"checkbox\" ><label for=\"sk-estimator-id-6\" class=\"sk-toggleable__label sk-toggleable__label-arrow\">estimator: LogisticRegression</label><div class=\"sk-toggleable__content\"><pre>LogisticRegression(max_iter=1000)</pre></div></div></div><div class=\"sk-serial\"><div class=\"sk-item\"><div class=\"sk-estimator sk-toggleable\"><input class=\"sk-toggleable__control sk-hidden--visually\" id=\"sk-estimator-id-7\" type=\"checkbox\" ><label for=\"sk-estimator-id-7\" class=\"sk-toggleable__label sk-toggleable__label-arrow\">LogisticRegression</label><div class=\"sk-toggleable__content\"><pre>LogisticRegression(max_iter=1000)</pre></div></div></div></div></div></div></div></div></div></div>"
      ],
      "text/plain": [
       "GridSearchCV(cv=5, estimator=LogisticRegression(max_iter=1000),\n",
       "             param_grid={'C': [0.01, 0.1, 1, 10, 100],\n",
       "                         'max_iter': [100, 200, 500, 1000],\n",
       "                         'penalty': ['l1', 'l2']},\n",
       "             scoring='accuracy')"
      ]
     },
     "execution_count": 22,
     "metadata": {},
     "output_type": "execute_result"
    }
   ],
   "source": [
    "# Perform Grid Search with cross-validation\n",
    "grid_search = GridSearchCV(estimator=lr, param_grid=param_grid, cv=5, scoring='accuracy')\n",
    "grid_search.fit(X_train, y_train)"
   ]
  },
  {
   "cell_type": "code",
   "execution_count": 23,
   "id": "e32e1dc7",
   "metadata": {
    "execution": {
     "iopub.execute_input": "2024-03-20T22:24:42.415719Z",
     "iopub.status.busy": "2024-03-20T22:24:42.415257Z",
     "iopub.status.idle": "2024-03-20T22:24:45.505892Z",
     "shell.execute_reply": "2024-03-20T22:24:45.504552Z"
    },
    "papermill": {
     "duration": 3.111232,
     "end_time": "2024-03-20T22:24:45.508414",
     "exception": false,
     "start_time": "2024-03-20T22:24:42.397182",
     "status": "completed"
    },
    "tags": []
   },
   "outputs": [
    {
     "name": "stdout",
     "output_type": "stream",
     "text": [
      "Best Parameters: {'C': 100, 'max_iter': 1000, 'penalty': 'l2'}\n",
      "Cross-Validation Accuracy Scores: [0.85303514 0.85942492 0.84345048 0.86900958 0.86900958]\n"
     ]
    }
   ],
   "source": [
    "# Best parameters\n",
    "best_params = grid_search.best_params_\n",
    "\n",
    "# Initialize the logistic regression model with the best parameters\n",
    "best_lr = LogisticRegression(**best_params)\n",
    "\n",
    "# Cross-validation scores\n",
    "cross_val_scores = cross_val_score(best_lr, X_train, y_train, cv=5, scoring='accuracy')\n",
    "\n",
    "# Print the best parameters and cross-validation scores\n",
    "print(\"Best Parameters:\", best_params)\n",
    "print(\"Cross-Validation Accuracy Scores:\", cross_val_scores)"
   ]
  },
  {
   "cell_type": "code",
   "execution_count": 24,
   "id": "496fd5b1",
   "metadata": {
    "execution": {
     "iopub.execute_input": "2024-03-20T22:24:45.544690Z",
     "iopub.status.busy": "2024-03-20T22:24:45.543964Z",
     "iopub.status.idle": "2024-03-20T22:24:47.229962Z",
     "shell.execute_reply": "2024-03-20T22:24:47.228879Z"
    },
    "papermill": {
     "duration": 1.7082,
     "end_time": "2024-03-20T22:24:47.233981",
     "exception": false,
     "start_time": "2024-03-20T22:24:45.525781",
     "status": "completed"
    },
    "tags": []
   },
   "outputs": [
    {
     "name": "stdout",
     "output_type": "stream",
     "text": [
      "Mean Cross-Validation Accuracy: 0.8587859424920128\n",
      "Standard Deviation of Cross-Validation Accuracy: 0.009774478300816836\n",
      "Final Model Accuracy on Training Data: 0.8620689655172413\n"
     ]
    }
   ],
   "source": [
    "# Calculate mean and standard deviation of cross-validation scores\n",
    "mean_cv_score = cross_val_scores.mean()\n",
    "std_cv_score = cross_val_scores.std()\n",
    "\n",
    "# Print mean and standard deviation\n",
    "print(f\"Mean Cross-Validation Accuracy: {mean_cv_score}\")\n",
    "print(f\"Standard Deviation of Cross-Validation Accuracy: {std_cv_score}\")\n",
    "\n",
    "# Retrain the model on the entire dataset\n",
    "best_lr.fit(obesity_encoded_obesity, y)\n",
    "\n",
    "# If you have a separate test set, evaluate the model on it\n",
    "# test_accuracy = best_lr.score(X_test, y_test) # Uncomment if you have a test set\n",
    "\n",
    "# Final model evaluation\n",
    "final_accuracy = best_lr.score(X_test, y_test)\n",
    "\n",
    "# Print the final model accuracy\n",
    "print(f\"Final Model Accuracy on Training Data: {final_accuracy}\")"
   ]
  }
 ],
 "metadata": {
  "kaggle": {
   "accelerator": "none",
   "dataSources": [
    {
     "datasetId": 4283317,
     "sourceId": 7382746,
     "sourceType": "datasetVersion"
    }
   ],
   "dockerImageVersionId": 30635,
   "isGpuEnabled": false,
   "isInternetEnabled": true,
   "language": "python",
   "sourceType": "notebook"
  },
  "kernelspec": {
   "display_name": "Python 3",
   "language": "python",
   "name": "python3"
  },
  "language_info": {
   "codemirror_mode": {
    "name": "ipython",
    "version": 3
   },
   "file_extension": ".py",
   "mimetype": "text/x-python",
   "name": "python",
   "nbconvert_exporter": "python",
   "pygments_lexer": "ipython3",
   "version": "3.10.12"
  },
  "papermill": {
   "default_parameters": {},
   "duration": 136.668432,
   "end_time": "2024-03-20T22:24:47.906970",
   "environment_variables": {},
   "exception": null,
   "input_path": "__notebook__.ipynb",
   "output_path": "__notebook__.ipynb",
   "parameters": {},
   "start_time": "2024-03-20T22:22:31.238538",
   "version": "2.4.0"
  }
 },
 "nbformat": 4,
 "nbformat_minor": 5
}
